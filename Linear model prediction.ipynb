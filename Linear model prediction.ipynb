{
 "cells": [
  {
   "cell_type": "markdown",
   "metadata": {},
   "source": [
    "## Linear Model Prediction"
   ]
  },
  {
   "cell_type": "markdown",
   "metadata": {},
   "source": [
    "import the libraries"
   ]
  },
  {
   "cell_type": "code",
   "execution_count": 22,
   "metadata": {},
   "outputs": [],
   "source": [
    "import pandas as pd\n",
    "import numpy as np\n",
    "import matplotlib.pyplot as plt\n",
    "%matplotlib inline\n",
    "import seaborn as sns\n",
    "\n",
    "import statsmodels.api as sm"
   ]
  },
  {
   "cell_type": "markdown",
   "metadata": {},
   "source": [
    "# The Demand Data"
   ]
  },
  {
   "cell_type": "markdown",
   "metadata": {},
   "source": [
    "import the data"
   ]
  },
  {
   "cell_type": "code",
   "execution_count": 23,
   "metadata": {},
   "outputs": [],
   "source": [
    "df_demand_temp = pd.read_excel('../CEE 5930 Assignment 3 Data -- Fall 2019.xlsx', sheet_name='Demand Data')"
   ]
  },
  {
   "cell_type": "code",
   "execution_count": 24,
   "metadata": {
    "scrolled": true
   },
   "outputs": [
    {
     "data": {
      "text/html": [
       "<div>\n",
       "<style scoped>\n",
       "    .dataframe tbody tr th:only-of-type {\n",
       "        vertical-align: middle;\n",
       "    }\n",
       "\n",
       "    .dataframe tbody tr th {\n",
       "        vertical-align: top;\n",
       "    }\n",
       "\n",
       "    .dataframe thead th {\n",
       "        text-align: right;\n",
       "    }\n",
       "</style>\n",
       "<table border=\"1\" class=\"dataframe\">\n",
       "  <thead>\n",
       "    <tr style=\"text-align: right;\">\n",
       "      <th></th>\n",
       "      <th>Daily High Temp (F)</th>\n",
       "      <th>Peak Demand (MwH)</th>\n",
       "    </tr>\n",
       "  </thead>\n",
       "  <tbody>\n",
       "    <tr>\n",
       "      <th>0</th>\n",
       "      <td>92</td>\n",
       "      <td>62.7</td>\n",
       "    </tr>\n",
       "    <tr>\n",
       "      <th>1</th>\n",
       "      <td>96</td>\n",
       "      <td>71.5</td>\n",
       "    </tr>\n",
       "    <tr>\n",
       "      <th>2</th>\n",
       "      <td>96</td>\n",
       "      <td>73.0</td>\n",
       "    </tr>\n",
       "    <tr>\n",
       "      <th>3</th>\n",
       "      <td>89</td>\n",
       "      <td>60.2</td>\n",
       "    </tr>\n",
       "    <tr>\n",
       "      <th>4</th>\n",
       "      <td>95</td>\n",
       "      <td>71.2</td>\n",
       "    </tr>\n",
       "  </tbody>\n",
       "</table>\n",
       "</div>"
      ],
      "text/plain": [
       "   Daily High Temp (F)  Peak Demand (MwH)\n",
       "0                   92               62.7\n",
       "1                   96               71.5\n",
       "2                   96               73.0\n",
       "3                   89               60.2\n",
       "4                   95               71.2"
      ]
     },
     "execution_count": 24,
     "metadata": {},
     "output_type": "execute_result"
    }
   ],
   "source": [
    "df_demand_temp.head()"
   ]
  },
  {
   "cell_type": "code",
   "execution_count": 25,
   "metadata": {},
   "outputs": [],
   "source": [
    "X = df_demand_temp['Daily High Temp (F)']\n",
    "Y = df_demand_temp['Peak Demand (MwH)']\n",
    "X = sm.add_constant(X)\n",
    "model1 = sm.OLS(Y,X)\n",
    "results1 = model1.fit()"
   ]
  },
  {
   "cell_type": "code",
   "execution_count": 86,
   "metadata": {},
   "outputs": [
    {
     "name": "stdout",
     "output_type": "stream",
     "text": [
      "                            OLS Regression Results                            \n",
      "==============================================================================\n",
      "Dep. Variable:      Peak Demand (MwH)   R-squared:                       0.718\n",
      "Model:                            OLS   Adj. R-squared:                  0.707\n",
      "Method:                 Least Squares   F-statistic:                     66.29\n",
      "Date:                Thu, 17 Oct 2019   Prob (F-statistic):           1.27e-08\n",
      "Time:                        18:18:23   Log-Likelihood:                -74.219\n",
      "No. Observations:                  28   AIC:                             152.4\n",
      "Df Residuals:                      26   BIC:                             155.1\n",
      "Df Model:                           1                                         \n",
      "Covariance Type:            nonrobust                                         \n",
      "=======================================================================================\n",
      "                          coef    std err          t      P>|t|      [0.025      0.975]\n",
      "---------------------------------------------------------------------------------------\n",
      "const                 -74.9047     17.604     -4.255      0.000    -111.091     -38.718\n",
      "Daily High Temp (F)     1.5295      0.188      8.142      0.000       1.143       1.916\n",
      "==============================================================================\n",
      "Omnibus:                       13.027   Durbin-Watson:                   2.242\n",
      "Prob(Omnibus):                  0.001   Jarque-Bera (JB):                2.563\n",
      "Skew:                           0.080   Prob(JB):                        0.278\n",
      "Kurtosis:                       1.526   Cond. No.                     2.45e+03\n",
      "==============================================================================\n",
      "\n",
      "Warnings:\n",
      "[1] Standard Errors assume that the covariance matrix of the errors is correctly specified.\n",
      "[2] The condition number is large, 2.45e+03. This might indicate that there are\n",
      "strong multicollinearity or other numerical problems.\n"
     ]
    }
   ],
   "source": [
    "print(results1.summary())"
   ]
  },
  {
   "cell_type": "code",
   "execution_count": 27,
   "metadata": {},
   "outputs": [
    {
     "name": "stdout",
     "output_type": "stream",
     "text": [
      "The degree of freedom of the residuals: 26.0\n",
      "The degree of freedom of the regression: 1.0\n",
      "The sum of squares (SS) of regression: 838.490363263679\n",
      "The Regression SS / Regression degrees of freedom: 838.490363263679\n",
      "The mean squared error (Residual SS / Residual degrees of freedom): 12.6491069074409\n",
      "The sum of squares (SS) of residuals: 328.8767795934634\n",
      "The sum of squares (SS) of total: 1167.3671428571424\n",
      "The multiple R: 0.847510924779519\n",
      "The standard error: 3.427185327815687\n"
     ]
    }
   ],
   "source": [
    "print(\"The degree of freedom of the residuals: {}\".format(results1.df_resid))\n",
    "print(\"The degree of freedom of the regression: {}\".format(results1.df_model))\n",
    "print(\"The sum of squares (SS) of regression: {}\".format(results1.ess))\n",
    "print(\"The Regression SS / Regression degrees of freedom: {}\".format(results1.mse_model))\n",
    "print(\"The mean squared error (Residual SS / Residual degrees of freedom): {}\".format(results1.mse_resid))\n",
    "print(\"The sum of squares (SS) of residuals: {}\".format(results1.ssr))\n",
    "print(\"The sum of squares (SS) of total: {}\".format(results1.centered_tss))\n",
    "print(\"The multiple R: {}\".format(np.sqrt(results1.rsquared)))\n",
    "print(\"The standard error: {}\".format(np.std(results1.resid)))"
   ]
  },
  {
   "cell_type": "markdown",
   "metadata": {},
   "source": [
    "## calculate a 95% confidence interval for a prediction of peak power demand on a day when the forecast high temperature is 88 F"
   ]
  },
  {
   "cell_type": "code",
   "execution_count": 35,
   "metadata": {},
   "outputs": [],
   "source": [
    "slope = 1.5295\n",
    "intercept = -74.9047\n",
    "y_hat = intercept + slope*df_demand_temp['Daily High Temp (F)']\n",
    "y_hat_x_equal_88 = intercept + slope*88\n",
    "t_value = 2.056\n",
    "n = 28\n",
    "k = 1\n",
    "x_mean = np.mean(df_demand_temp['Daily High Temp (F)'])\n",
    "Se = np.sqrt(np.sum(np.square(df_demand_temp['Peak Demand (MwH)']-y_hat))/(n-k-1))\n",
    "Sxx = np.sum(np.square(df_demand_temp['Daily High Temp (F)']-x_mean))"
   ]
  },
  {
   "cell_type": "code",
   "execution_count": 36,
   "metadata": {},
   "outputs": [],
   "source": [
    "interval_with_95_confidence_when_x_equals_88 = [y_hat_x_equal_88 - t_value*Se*np.sqrt(1+1/n+(np.square(88-x_mean)/Sxx)),\n",
    "                                                y_hat_x_equal_88 + t_value*Se*np.sqrt(1+1/n+(np.square(88-x_mean)/Sxx))]"
   ]
  },
  {
   "cell_type": "code",
   "execution_count": 37,
   "metadata": {},
   "outputs": [
    {
     "name": "stdout",
     "output_type": "stream",
     "text": [
      "The 95% confidence interval for a prediction of peak power demand on a day when the forecast high temperature is 88 F is: [51.93699738211079, 67.44560261788921]\n"
     ]
    }
   ],
   "source": [
    "print(\"The 95% confidence interval for a prediction of peak power demand on a day when the forecast high temperature is 88 F is: {}\".format(interval_with_95_confidence_when_x_equals_88))"
   ]
  },
  {
   "cell_type": "markdown",
   "metadata": {},
   "source": [
    "## Compute the PRESS statistic and the coefficient of prediction (P2) for this regression"
   ]
  },
  {
   "cell_type": "code",
   "execution_count": 39,
   "metadata": {},
   "outputs": [],
   "source": [
    "hii = 1/n + np.square(df_demand_temp['Daily High Temp (F)']-x_mean)/np.sum(np.square(df_demand_temp['Daily High Temp (F)']-x_mean))\n",
    "TSS = results1.centered_tss"
   ]
  },
  {
   "cell_type": "code",
   "execution_count": 40,
   "metadata": {},
   "outputs": [],
   "source": [
    "PRESS = 382.0537"
   ]
  },
  {
   "cell_type": "code",
   "execution_count": 41,
   "metadata": {},
   "outputs": [],
   "source": [
    "P_squared = 1- (PRESS/TSS)*np.square((n-1)/n)"
   ]
  },
  {
   "cell_type": "code",
   "execution_count": 42,
   "metadata": {},
   "outputs": [
    {
     "data": {
      "text/plain": [
       "0.6956814609983147"
      ]
     },
     "execution_count": 42,
     "metadata": {},
     "output_type": "execute_result"
    }
   ],
   "source": [
    "P_squared"
   ]
  },
  {
   "cell_type": "markdown",
   "metadata": {},
   "source": [
    "# The Maint Cost Data"
   ]
  },
  {
   "cell_type": "markdown",
   "metadata": {},
   "source": [
    "## import the data"
   ]
  },
  {
   "cell_type": "code",
   "execution_count": 43,
   "metadata": {},
   "outputs": [],
   "source": [
    "df_maint_cost = pd.read_excel('../CEE 5930 Assignment 3 Data -- Fall 2019.xlsx', sheet_name='Maint Cost Data')"
   ]
  },
  {
   "cell_type": "code",
   "execution_count": 44,
   "metadata": {},
   "outputs": [
    {
     "data": {
      "text/html": [
       "<div>\n",
       "<style scoped>\n",
       "    .dataframe tbody tr th:only-of-type {\n",
       "        vertical-align: middle;\n",
       "    }\n",
       "\n",
       "    .dataframe tbody tr th {\n",
       "        vertical-align: top;\n",
       "    }\n",
       "\n",
       "    .dataframe thead th {\n",
       "        text-align: right;\n",
       "    }\n",
       "</style>\n",
       "<table border=\"1\" class=\"dataframe\">\n",
       "  <thead>\n",
       "    <tr style=\"text-align: right;\">\n",
       "      <th></th>\n",
       "      <th>Customers (000's)</th>\n",
       "      <th>Line Maintenance ($000)</th>\n",
       "    </tr>\n",
       "  </thead>\n",
       "  <tbody>\n",
       "    <tr>\n",
       "      <th>0</th>\n",
       "      <td>25.3</td>\n",
       "      <td>484.6</td>\n",
       "    </tr>\n",
       "    <tr>\n",
       "      <th>1</th>\n",
       "      <td>36.4</td>\n",
       "      <td>672.3</td>\n",
       "    </tr>\n",
       "    <tr>\n",
       "      <th>2</th>\n",
       "      <td>37.9</td>\n",
       "      <td>839.4</td>\n",
       "    </tr>\n",
       "    <tr>\n",
       "      <th>3</th>\n",
       "      <td>45.9</td>\n",
       "      <td>694.9</td>\n",
       "    </tr>\n",
       "    <tr>\n",
       "      <th>4</th>\n",
       "      <td>53.4</td>\n",
       "      <td>836.4</td>\n",
       "    </tr>\n",
       "    <tr>\n",
       "      <th>5</th>\n",
       "      <td>66.8</td>\n",
       "      <td>681.9</td>\n",
       "    </tr>\n",
       "    <tr>\n",
       "      <th>6</th>\n",
       "      <td>78.4</td>\n",
       "      <td>1037.0</td>\n",
       "    </tr>\n",
       "    <tr>\n",
       "      <th>7</th>\n",
       "      <td>82.6</td>\n",
       "      <td>1095.6</td>\n",
       "    </tr>\n",
       "    <tr>\n",
       "      <th>8</th>\n",
       "      <td>93.8</td>\n",
       "      <td>1563.1</td>\n",
       "    </tr>\n",
       "    <tr>\n",
       "      <th>9</th>\n",
       "      <td>97.5</td>\n",
       "      <td>1377.9</td>\n",
       "    </tr>\n",
       "    <tr>\n",
       "      <th>10</th>\n",
       "      <td>105.7</td>\n",
       "      <td>1711.7</td>\n",
       "    </tr>\n",
       "    <tr>\n",
       "      <th>11</th>\n",
       "      <td>124.3</td>\n",
       "      <td>2138.6</td>\n",
       "    </tr>\n",
       "  </tbody>\n",
       "</table>\n",
       "</div>"
      ],
      "text/plain": [
       "    Customers (000's)  Line Maintenance ($000)\n",
       "0                25.3                    484.6\n",
       "1                36.4                    672.3\n",
       "2                37.9                    839.4\n",
       "3                45.9                    694.9\n",
       "4                53.4                    836.4\n",
       "5                66.8                    681.9\n",
       "6                78.4                   1037.0\n",
       "7                82.6                   1095.6\n",
       "8                93.8                   1563.1\n",
       "9                97.5                   1377.9\n",
       "10              105.7                   1711.7\n",
       "11              124.3                   2138.6"
      ]
     },
     "execution_count": 44,
     "metadata": {},
     "output_type": "execute_result"
    }
   ],
   "source": [
    "df_maint_cost"
   ]
  },
  {
   "cell_type": "code",
   "execution_count": 45,
   "metadata": {},
   "outputs": [
    {
     "data": {
      "text/plain": [
       "const                33.320575\n",
       "Customers (000's)    15.015982\n",
       "dtype: float64"
      ]
     },
     "execution_count": 45,
     "metadata": {},
     "output_type": "execute_result"
    }
   ],
   "source": [
    "X = df_maint_cost[\"Customers (000's)\"]\n",
    "Y = df_maint_cost['Line Maintenance ($000)']\n",
    "X = sm.add_constant(X)\n",
    "model2 = sm.OLS(Y,X)\n",
    "results2 = model2.fit()\n",
    "results2.params"
   ]
  },
  {
   "cell_type": "markdown",
   "metadata": {},
   "source": [
    "## Build a simple linear model"
   ]
  },
  {
   "cell_type": "code",
   "execution_count": 46,
   "metadata": {},
   "outputs": [],
   "source": [
    "y_hat = df_maint_cost[\"Customers (000's)\"]*results2.params[1] + results2.params.const\n",
    "residual = df_maint_cost[\"Line Maintenance ($000)\"]-y_hat"
   ]
  },
  {
   "cell_type": "code",
   "execution_count": 47,
   "metadata": {},
   "outputs": [
    {
     "data": {
      "text/plain": [
       "0      71.375070\n",
       "1      92.397665\n",
       "2     236.973691\n",
       "3     -27.654168\n",
       "4       1.225963\n",
       "5    -354.488201\n",
       "6    -173.573597\n",
       "7    -178.040724\n",
       "8     121.280273\n",
       "9    -119.478862\n",
       "10     91.190082\n",
       "11    238.792809\n",
       "dtype: float64"
      ]
     },
     "execution_count": 47,
     "metadata": {},
     "output_type": "execute_result"
    }
   ],
   "source": [
    "residual"
   ]
  },
  {
   "cell_type": "code",
   "execution_count": 48,
   "metadata": {},
   "outputs": [
    {
     "data": {
      "image/png": "[encoded data removed]",
      "text/plain": [
       "<Figure size 432x288 with 1 Axes>"
      ]
     },
     "metadata": {
      "needs_background": "light"
     },
     "output_type": "display_data"
    }
   ],
   "source": [
    "fig, axes = plt.subplots(1,1)\n",
    "ax = sns.lineplot(x=df_maint_cost[\"Customers (000's)\"], y=residual)\n",
    "plt.title(\"The residual plot\")\n",
    "plt.xlabel(\"Customers (000's)\")\n",
    "plt.ylabel(\"residual of the fitted line\")\n",
    "plt.show()"
   ]
  },
  {
   "cell_type": "markdown",
   "metadata": {},
   "source": [
    "## adding a quadratic term to the linear model"
   ]
  },
  {
   "cell_type": "code",
   "execution_count": 49,
   "metadata": {},
   "outputs": [],
   "source": [
    "X_squared = np.square(df_maint_cost[\"Customers (000's)\"])"
   ]
  },
  {
   "cell_type": "code",
   "execution_count": 51,
   "metadata": {},
   "outputs": [
    {
     "name": "stdout",
     "output_type": "stream",
     "text": [
      "const                707.474738\n",
      "Customers (000's)     -7.392210\n",
      "Customers Squared      0.154305\n",
      "dtype: float64\n",
      "                               OLS Regression Results                              \n",
      "===================================================================================\n",
      "Dep. Variable:     Line Maintenance ($000)   R-squared:                       0.942\n",
      "Model:                                 OLS   Adj. R-squared:                  0.929\n",
      "Method:                      Least Squares   F-statistic:                     72.61\n",
      "Date:                     Thu, 17 Oct 2019   Prob (F-statistic):           2.80e-06\n",
      "Time:                             17:15:30   Log-Likelihood:                -74.112\n",
      "No. Observations:                       12   AIC:                             154.2\n",
      "Df Residuals:                            9   BIC:                             155.7\n",
      "Df Model:                                2                                         \n",
      "Covariance Type:                 nonrobust                                         \n",
      "=====================================================================================\n",
      "                        coef    std err          t      P>|t|      [0.025      0.975]\n",
      "-------------------------------------------------------------------------------------\n",
      "const               707.4747    230.493      3.069      0.013     186.064    1228.885\n",
      "Customers (000's)    -7.3922      7.034     -1.051      0.321     -23.303       8.519\n",
      "Customers Squared     0.1543      0.048      3.241      0.010       0.047       0.262\n",
      "==============================================================================\n",
      "Omnibus:                        0.024   Durbin-Watson:                   2.338\n",
      "Prob(Omnibus):                  0.988   Jarque-Bera (JB):                0.143\n",
      "Skew:                           0.049   Prob(JB):                        0.931\n",
      "Kurtosis:                       2.474   Cond. No.                     4.38e+04\n",
      "==============================================================================\n",
      "\n",
      "Warnings:\n",
      "[1] Standard Errors assume that the covariance matrix of the errors is correctly specified.\n",
      "[2] The condition number is large, 4.38e+04. This might indicate that there are\n",
      "strong multicollinearity or other numerical problems.\n"
     ]
    },
    {
     "name": "stderr",
     "output_type": "stream",
     "text": [
      "/Users/shufang/anaconda3/lib/python3.7/site-packages/scipy/stats/stats.py:1416: UserWarning: kurtosistest only valid for n>=20 ... continuing anyway, n=12\n",
      "  \"anyway, n=%i\" % int(n))\n"
     ]
    }
   ],
   "source": [
    "df_maint_cost['Customers Squared'] = X_squared\n",
    "X = df_maint_cost[[\"Customers (000's)\", \"Customers Squared\"]]\n",
    "Y = df_maint_cost['Line Maintenance ($000)']\n",
    "X = sm.add_constant(X)\n",
    "model3 = sm.OLS(Y,X)\n",
    "results3 = model3.fit()\n",
    "print(results3.params)\n",
    "print(results3.summary())"
   ]
  },
  {
   "cell_type": "code",
   "execution_count": 52,
   "metadata": {},
   "outputs": [
    {
     "name": "stdout",
     "output_type": "stream",
     "text": [
      "The correlation between the two variables is 0.9829391102473414\n"
     ]
    }
   ],
   "source": [
    "print(\"The correlation between the two variables is {}\".format(np.corrcoef(df_maint_cost[\"Customers (000's)\"], df_maint_cost['Customers Squared'])[1,0]))"
   ]
  },
  {
   "cell_type": "markdown",
   "metadata": {},
   "source": [
    "## Calculate the VIF of the new quadratic variable"
   ]
  },
  {
   "cell_type": "code",
   "execution_count": 67,
   "metadata": {},
   "outputs": [],
   "source": [
    "X = df_maint_cost[\"Customers (000's)\"]\n",
    "Y = df_maint_cost['Customers Squared']\n",
    "X = sm.add_constant(X)\n",
    "model4 = sm.OLS(Y,X)\n",
    "results4 = model4.fit()"
   ]
  },
  {
   "cell_type": "code",
   "execution_count": 68,
   "metadata": {},
   "outputs": [],
   "source": [
    "R_squared_of_quadratic = results4.rsquared"
   ]
  },
  {
   "cell_type": "code",
   "execution_count": 69,
   "metadata": {},
   "outputs": [],
   "source": [
    "VIF = 1/(1-R_squared_of_quadratic)"
   ]
  },
  {
   "cell_type": "code",
   "execution_count": 70,
   "metadata": {},
   "outputs": [
    {
     "name": "stdout",
     "output_type": "stream",
     "text": [
      "29.55894604785621\n"
     ]
    }
   ],
   "source": [
    "print(VIF)"
   ]
  },
  {
   "cell_type": "markdown",
   "metadata": {},
   "source": [
    "## transform the data using the “centered predictor” method "
   ]
  },
  {
   "cell_type": "code",
   "execution_count": 153,
   "metadata": {},
   "outputs": [
    {
     "name": "stdout",
     "output_type": "stream",
     "text": [
      "    Customers (000's) transformed  Customers Squared transformed\n",
      "0                      -45.366667                    2058.134444\n",
      "1                      -34.266667                    1174.204444\n",
      "2                      -32.766667                    1073.654444\n",
      "3                      -24.766667                     613.387778\n",
      "4                      -17.266667                     298.137778\n",
      "5                       -3.866667                      14.951111\n",
      "6                        7.733333                      59.804444\n",
      "7                       11.933333                     142.404444\n",
      "8                       23.133333                     535.151111\n",
      "9                       26.833333                     720.027778\n",
      "10                      35.033333                    1227.334444\n",
      "11                      53.633333                    2876.534444\n",
      "const                            955.656261\n",
      "Customers (000's) transformed     14.416215\n",
      "Customers Squared transformed      0.154305\n",
      "dtype: float64\n",
      "                               OLS Regression Results                              \n",
      "===================================================================================\n",
      "Dep. Variable:     Line Maintenance ($000)   R-squared:                       0.942\n",
      "Model:                                 OLS   Adj. R-squared:                  0.929\n",
      "Method:                      Least Squares   F-statistic:                     72.61\n",
      "Date:                     Thu, 17 Oct 2019   Prob (F-statistic):           2.80e-06\n",
      "Time:                             19:50:16   Log-Likelihood:                -74.112\n",
      "No. Observations:                       12   AIC:                             154.2\n",
      "Df Residuals:                            9   BIC:                             155.7\n",
      "Df Model:                                2                                         \n",
      "Covariance Type:                 nonrobust                                         \n",
      "=================================================================================================\n",
      "                                    coef    std err          t      P>|t|      [0.025      0.975]\n",
      "-------------------------------------------------------------------------------------------------\n",
      "const                           955.6563     57.786     16.538      0.000     824.936    1086.377\n",
      "Customers (000's) transformed    14.4162      1.307     11.031      0.000      11.460      17.373\n",
      "Customers Squared transformed     0.1543      0.048      3.241      0.010       0.047       0.262\n",
      "==============================================================================\n",
      "Omnibus:                        0.024   Durbin-Watson:                   2.338\n",
      "Prob(Omnibus):                  0.988   Jarque-Bera (JB):                0.143\n",
      "Skew:                           0.049   Prob(JB):                        0.931\n",
      "Kurtosis:                       2.474   Cond. No.                     1.82e+03\n",
      "==============================================================================\n",
      "\n",
      "Warnings:\n",
      "[1] Standard Errors assume that the covariance matrix of the errors is correctly specified.\n",
      "[2] The condition number is large, 1.82e+03. This might indicate that there are\n",
      "strong multicollinearity or other numerical problems.\n"
     ]
    },
    {
     "name": "stderr",
     "output_type": "stream",
     "text": [
      "/Users/shufang/anaconda3/lib/python3.7/site-packages/ipykernel_launcher.py:3: SettingWithCopyWarning: \n",
      "A value is trying to be set on a copy of a slice from a DataFrame.\n",
      "Try using .loc[row_indexer,col_indexer] = value instead\n",
      "\n",
      "See the caveats in the documentation: http://pandas.pydata.org/pandas-docs/stable/indexing.html#indexing-view-versus-copy\n",
      "  This is separate from the ipykernel package so we can avoid doing imports until\n",
      "/Users/shufang/anaconda3/lib/python3.7/site-packages/ipykernel_launcher.py:5: SettingWithCopyWarning: \n",
      "A value is trying to be set on a copy of a slice from a DataFrame.\n",
      "Try using .loc[row_indexer,col_indexer] = value instead\n",
      "\n",
      "See the caveats in the documentation: http://pandas.pydata.org/pandas-docs/stable/indexing.html#indexing-view-versus-copy\n",
      "  \"\"\"\n",
      "/Users/shufang/anaconda3/lib/python3.7/site-packages/numpy/core/fromnumeric.py:2389: FutureWarning: Method .ptp is deprecated and will be removed in a future version. Use numpy.ptp instead.\n",
      "  return ptp(axis=axis, out=out, **kwargs)\n",
      "/Users/shufang/anaconda3/lib/python3.7/site-packages/scipy/stats/stats.py:1416: UserWarning: kurtosistest only valid for n>=20 ... continuing anyway, n=12\n",
      "  \"anyway, n=%i\" % int(n))\n"
     ]
    }
   ],
   "source": [
    "X = df_maint_cost[[\"Customers (000's)\", \"Customers Squared\"]]\n",
    "Customers_transformed = X[\"Customers (000's)\"]-np.mean(X[\"Customers (000's)\"])\n",
    "X[\"Customers (000's)\"] = Customers_transformed\n",
    "Customer_quadratic_transformed = np.square(Customers_transformed)\n",
    "X[\"Customers Squared\"] = Customer_quadratic_transformed\n",
    "X.columns = [\"Customers (000's) transformed\", \"Customers Squared transformed\"]\n",
    "X_transformed = X\n",
    "# print(X)\n",
    "Y = df_maint_cost['Line Maintenance ($000)']\n",
    "X = sm.add_constant(X)\n",
    "model5 = sm.OLS(Y,X)\n",
    "results5 = model5.fit()\n",
    "print(results5.params)\n",
    "print(results5.summary())"
   ]
  },
  {
   "cell_type": "code",
   "execution_count": 80,
   "metadata": {},
   "outputs": [
    {
     "name": "stdout",
     "output_type": "stream",
     "text": [
      "The correlation between the two transformed variables is 0.14159535842171467\n"
     ]
    }
   ],
   "source": [
    "print(\"The correlation between the two transformed variables is {}\".format(np.corrcoef(Customers_transformed, Customer_quadratic_transformed)[1,0]))"
   ]
  },
  {
   "cell_type": "markdown",
   "metadata": {},
   "source": [
    "## Calculate the VIF of the new transformed quadratic variable"
   ]
  },
  {
   "cell_type": "code",
   "execution_count": 81,
   "metadata": {},
   "outputs": [],
   "source": [
    "X = Customers_transformed\n",
    "Y = Customer_quadratic_transformed\n",
    "X = sm.add_constant(X)\n",
    "model6 = sm.OLS(Y,X)\n",
    "results6 = model6.fit()"
   ]
  },
  {
   "cell_type": "code",
   "execution_count": 82,
   "metadata": {},
   "outputs": [],
   "source": [
    "R_squared_of__transformed_quadratic = results6.rsquared"
   ]
  },
  {
   "cell_type": "code",
   "execution_count": 83,
   "metadata": {},
   "outputs": [],
   "source": [
    "VIF_transformed = 1/(1-R_squared_of__transformed_quadratic)"
   ]
  },
  {
   "cell_type": "code",
   "execution_count": 84,
   "metadata": {},
   "outputs": [
    {
     "name": "stdout",
     "output_type": "stream",
     "text": [
      "1.0204594419005752\n"
     ]
    }
   ],
   "source": [
    "print(VIF_transformed)"
   ]
  },
  {
   "cell_type": "markdown",
   "metadata": {},
   "source": [
    "## calculate a 95% confidence interval for the predicted line maintenance costs for a utility serving 100,000 customers"
   ]
  },
  {
   "cell_type": "code",
   "execution_count": 155,
   "metadata": {},
   "outputs": [],
   "source": [
    "MSres = results5.mse_resid\n",
    "X0 = [100-np.mean(df_maint_cost[\"Customers (000's)\"]), np.square(100-np.mean(df_maint_cost[\"Customers (000's)\"]))]\n",
    "X = X_transformed[[\"Customers (000's) transformed\", \"Customers Squared transformed\"]]\n",
    "slope1 = 14.4162\n",
    "slope2 = 0.1543 \n",
    "intercept = 955.6563\n",
    "n = 12\n",
    "k = 1\n",
    "t_value = 2.228\n",
    "y_hat_x_equal_100 = X0[0]*slope1 + X0[1]*slope2 + intercept"
   ]
  },
  {
   "cell_type": "code",
   "execution_count": 156,
   "metadata": {},
   "outputs": [],
   "source": [
    "interval_with_95_confidence_when_x_equals_100 = [y_hat_x_equal_100 - t_value*np.sqrt(MSres*(1+int(np.dot(np.dot(np.transpose(X0),(np.matrix((np.dot(np.array(np.transpose(X)),np.array(X)))).I)),X0)))), \n",
    "                                                y_hat_x_equal_100 + t_value*np.sqrt(MSres*(1+int(np.dot(np.dot(np.transpose(X0),(np.matrix((np.dot(np.array(np.transpose(X)),np.array(X)))).I)),X0))))]"
   ]
  },
  {
   "cell_type": "code",
   "execution_count": 157,
   "metadata": {},
   "outputs": [
    {
     "data": {
      "text/plain": [
       "[1211.8387678107656, 1810.7573877447894]"
      ]
     },
     "execution_count": 157,
     "metadata": {},
     "output_type": "execute_result"
    }
   ],
   "source": [
    "interval_with_95_confidence_when_x_equals_100"
   ]
  },
  {
   "cell_type": "code",
   "execution_count": 158,
   "metadata": {},
   "outputs": [
    {
     "name": "stdout",
     "output_type": "stream",
     "text": [
      "The 95% confidence interval for a prediction of maintenance costs for a utility serving 100,000 customers is: [1211.8387678107656, 1810.7573877447894]\n"
     ]
    }
   ],
   "source": [
    "print(\"The 95% confidence interval for a prediction of maintenance costs for a utility serving 100,000 customers is: {}\".format(interval_with_95_confidence_when_x_equals_100))"
   ]
  },
  {
   "cell_type": "code",
   "execution_count": null,
   "metadata": {},
   "outputs": [],
   "source": []
  }
 ],
 "metadata": {
  "kernelspec": {
   "display_name": "Python 3",
   "language": "python",
   "name": "python3"
  },
  "language_info": {
   "codemirror_mode": {
    "name": "ipython",
    "version": 3
   },
   "file_extension": ".py",
   "mimetype": "text/x-python",
   "name": "python",
   "nbconvert_exporter": "python",
   "pygments_lexer": "ipython3",
   "version": "3.7.3"
  }
 },
 "nbformat": 4,
 "nbformat_minor": 2
}
