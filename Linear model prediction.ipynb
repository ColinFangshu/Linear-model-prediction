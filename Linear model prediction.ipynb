{
 "cells": [
  {
   "cell_type": "markdown",
   "metadata": {},
   "source": [
    "## Linear Model Prediction"
   ]
  },
  {
   "cell_type": "markdown",
   "metadata": {},
   "source": [
    "import the libraries"
   ]
  },
  {
   "cell_type": "code",
   "execution_count": 1,
   "metadata": {},
   "outputs": [],
   "source": [
    "import pandas as pd\n",
    "import numpy as np\n",
    "import matplotlib.pyplot as plt\n",
    "%matplotlib inline\n",
    "\n",
    "import statsmodels.api as sm"
   ]
  },
  {
   "cell_type": "markdown",
   "metadata": {},
   "source": [
    "# The Deman Data"
   ]
  },
  {
   "cell_type": "markdown",
   "metadata": {},
   "source": [
    "import the data"
   ]
  },
  {
   "cell_type": "code",
   "execution_count": 65,
   "metadata": {},
   "outputs": [],
   "source": [
    "df_demand_temp = pd.read_excel('../CEE 5930 Assignment 3 Data -- Fall 2019.xlsx', sheet_name='Demand Data')"
   ]
  },
  {
   "cell_type": "code",
   "execution_count": 3,
   "metadata": {
    "scrolled": true
   },
   "outputs": [
    {
     "data": {
      "text/html": [
       "<div>\n",
       "<style scoped>\n",
       "    .dataframe tbody tr th:only-of-type {\n",
       "        vertical-align: middle;\n",
       "    }\n",
       "\n",
       "    .dataframe tbody tr th {\n",
       "        vertical-align: top;\n",
       "    }\n",
       "\n",
       "    .dataframe thead th {\n",
       "        text-align: right;\n",
       "    }\n",
       "</style>\n",
       "<table border=\"1\" class=\"dataframe\">\n",
       "  <thead>\n",
       "    <tr style=\"text-align: right;\">\n",
       "      <th></th>\n",
       "      <th>Daily High Temp (F)</th>\n",
       "      <th>Peak Demand (MwH)</th>\n",
       "    </tr>\n",
       "  </thead>\n",
       "  <tbody>\n",
       "    <tr>\n",
       "      <th>0</th>\n",
       "      <td>92</td>\n",
       "      <td>62.7</td>\n",
       "    </tr>\n",
       "    <tr>\n",
       "      <th>1</th>\n",
       "      <td>96</td>\n",
       "      <td>71.5</td>\n",
       "    </tr>\n",
       "    <tr>\n",
       "      <th>2</th>\n",
       "      <td>96</td>\n",
       "      <td>73.0</td>\n",
       "    </tr>\n",
       "    <tr>\n",
       "      <th>3</th>\n",
       "      <td>89</td>\n",
       "      <td>60.2</td>\n",
       "    </tr>\n",
       "    <tr>\n",
       "      <th>4</th>\n",
       "      <td>95</td>\n",
       "      <td>71.2</td>\n",
       "    </tr>\n",
       "  </tbody>\n",
       "</table>\n",
       "</div>"
      ],
      "text/plain": [
       "   Daily High Temp (F)  Peak Demand (MwH)\n",
       "0                   92               62.7\n",
       "1                   96               71.5\n",
       "2                   96               73.0\n",
       "3                   89               60.2\n",
       "4                   95               71.2"
      ]
     },
     "execution_count": 3,
     "metadata": {},
     "output_type": "execute_result"
    }
   ],
   "source": [
    "df_demand_temp.head()"
   ]
  },
  {
   "cell_type": "code",
   "execution_count": 4,
   "metadata": {},
   "outputs": [
    {
     "name": "stderr",
     "output_type": "stream",
     "text": [
      "/Users/shufang/anaconda3/lib/python3.7/site-packages/numpy/core/fromnumeric.py:2389: FutureWarning: Method .ptp is deprecated and will be removed in a future version. Use numpy.ptp instead.\n",
      "  return ptp(axis=axis, out=out, **kwargs)\n"
     ]
    }
   ],
   "source": [
    "X = df_demand_temp['Daily High Temp (F)']\n",
    "Y = df_demand_temp['Peak Demand (MwH)']\n",
    "X = sm.add_constant(X)\n",
    "model1 = sm.OLS(Y,X)\n",
    "results1 = model1.fit()"
   ]
  },
  {
   "cell_type": "code",
   "execution_count": 5,
   "metadata": {},
   "outputs": [
    {
     "data": {
      "text/html": [
       "<table class=\"simpletable\">\n",
       "<caption>OLS Regression Results</caption>\n",
       "<tr>\n",
       "  <th>Dep. Variable:</th>    <td>Peak Demand (MwH)</td> <th>  R-squared:         </th> <td>   0.718</td>\n",
       "</tr>\n",
       "<tr>\n",
       "  <th>Model:</th>                   <td>OLS</td>        <th>  Adj. R-squared:    </th> <td>   0.707</td>\n",
       "</tr>\n",
       "<tr>\n",
       "  <th>Method:</th>             <td>Least Squares</td>   <th>  F-statistic:       </th> <td>   66.29</td>\n",
       "</tr>\n",
       "<tr>\n",
       "  <th>Date:</th>             <td>Mon, 14 Oct 2019</td>  <th>  Prob (F-statistic):</th> <td>1.27e-08</td>\n",
       "</tr>\n",
       "<tr>\n",
       "  <th>Time:</th>                 <td>13:38:00</td>      <th>  Log-Likelihood:    </th> <td> -74.219</td>\n",
       "</tr>\n",
       "<tr>\n",
       "  <th>No. Observations:</th>      <td>    28</td>       <th>  AIC:               </th> <td>   152.4</td>\n",
       "</tr>\n",
       "<tr>\n",
       "  <th>Df Residuals:</th>          <td>    26</td>       <th>  BIC:               </th> <td>   155.1</td>\n",
       "</tr>\n",
       "<tr>\n",
       "  <th>Df Model:</th>              <td>     1</td>       <th>                     </th>     <td> </td>   \n",
       "</tr>\n",
       "<tr>\n",
       "  <th>Covariance Type:</th>      <td>nonrobust</td>     <th>                     </th>     <td> </td>   \n",
       "</tr>\n",
       "</table>\n",
       "<table class=\"simpletable\">\n",
       "<tr>\n",
       "           <td></td>              <th>coef</th>     <th>std err</th>      <th>t</th>      <th>P>|t|</th>  <th>[0.025</th>    <th>0.975]</th>  \n",
       "</tr>\n",
       "<tr>\n",
       "  <th>const</th>               <td>  -74.9047</td> <td>   17.604</td> <td>   -4.255</td> <td> 0.000</td> <td> -111.091</td> <td>  -38.718</td>\n",
       "</tr>\n",
       "<tr>\n",
       "  <th>Daily High Temp (F)</th> <td>    1.5295</td> <td>    0.188</td> <td>    8.142</td> <td> 0.000</td> <td>    1.143</td> <td>    1.916</td>\n",
       "</tr>\n",
       "</table>\n",
       "<table class=\"simpletable\">\n",
       "<tr>\n",
       "  <th>Omnibus:</th>       <td>13.027</td> <th>  Durbin-Watson:     </th> <td>   2.242</td>\n",
       "</tr>\n",
       "<tr>\n",
       "  <th>Prob(Omnibus):</th> <td> 0.001</td> <th>  Jarque-Bera (JB):  </th> <td>   2.563</td>\n",
       "</tr>\n",
       "<tr>\n",
       "  <th>Skew:</th>          <td> 0.080</td> <th>  Prob(JB):          </th> <td>   0.278</td>\n",
       "</tr>\n",
       "<tr>\n",
       "  <th>Kurtosis:</th>      <td> 1.526</td> <th>  Cond. No.          </th> <td>2.45e+03</td>\n",
       "</tr>\n",
       "</table><br/><br/>Warnings:<br/>[1] Standard Errors assume that the covariance matrix of the errors is correctly specified.<br/>[2] The condition number is large, 2.45e+03. This might indicate that there are<br/>strong multicollinearity or other numerical problems."
      ],
      "text/plain": [
       "<class 'statsmodels.iolib.summary.Summary'>\n",
       "\"\"\"\n",
       "                            OLS Regression Results                            \n",
       "==============================================================================\n",
       "Dep. Variable:      Peak Demand (MwH)   R-squared:                       0.718\n",
       "Model:                            OLS   Adj. R-squared:                  0.707\n",
       "Method:                 Least Squares   F-statistic:                     66.29\n",
       "Date:                Mon, 14 Oct 2019   Prob (F-statistic):           1.27e-08\n",
       "Time:                        13:38:00   Log-Likelihood:                -74.219\n",
       "No. Observations:                  28   AIC:                             152.4\n",
       "Df Residuals:                      26   BIC:                             155.1\n",
       "Df Model:                           1                                         \n",
       "Covariance Type:            nonrobust                                         \n",
       "=======================================================================================\n",
       "                          coef    std err          t      P>|t|      [0.025      0.975]\n",
       "---------------------------------------------------------------------------------------\n",
       "const                 -74.9047     17.604     -4.255      0.000    -111.091     -38.718\n",
       "Daily High Temp (F)     1.5295      0.188      8.142      0.000       1.143       1.916\n",
       "==============================================================================\n",
       "Omnibus:                       13.027   Durbin-Watson:                   2.242\n",
       "Prob(Omnibus):                  0.001   Jarque-Bera (JB):                2.563\n",
       "Skew:                           0.080   Prob(JB):                        0.278\n",
       "Kurtosis:                       1.526   Cond. No.                     2.45e+03\n",
       "==============================================================================\n",
       "\n",
       "Warnings:\n",
       "[1] Standard Errors assume that the covariance matrix of the errors is correctly specified.\n",
       "[2] The condition number is large, 2.45e+03. This might indicate that there are\n",
       "strong multicollinearity or other numerical problems.\n",
       "\"\"\""
      ]
     },
     "execution_count": 5,
     "metadata": {},
     "output_type": "execute_result"
    }
   ],
   "source": [
    "results1.summary()"
   ]
  },
  {
   "cell_type": "code",
   "execution_count": 8,
   "metadata": {},
   "outputs": [
    {
     "name": "stdout",
     "output_type": "stream",
     "text": [
      "The degree of freedom of the residuals: 26.0\n",
      "The degree of freedom of the regression: 1.0\n",
      "The sum of squares (SS) of regression: 838.490363263679\n",
      "The Regression SS / Regression degrees of freedom: 838.490363263679\n",
      "The mean squared error (Residual SS / Residual degrees of freedom): 12.6491069074409\n",
      "The sum of squares (SS) of residuals: 328.8767795934634\n",
      "The sum of squares (SS) of total: 1167.3671428571424\n",
      "The multiple R: 0.847510924779519\n",
      "The standard error: 3.427185327815687\n"
     ]
    }
   ],
   "source": [
    "print(\"The degree of freedom of the residuals: {}\".format(results1.df_resid))\n",
    "print(\"The degree of freedom of the regression: {}\".format(results1.df_model))\n",
    "print(\"The sum of squares (SS) of regression: {}\".format(results1.ess))\n",
    "print(\"The Regression SS / Regression degrees of freedom: {}\".format(results1.mse_model))\n",
    "print(\"The mean squared error (Residual SS / Residual degrees of freedom): {}\".format(results1.mse_resid))\n",
    "print(\"The sum of squares (SS) of residuals: {}\".format(results1.ssr))\n",
    "print(\"The sum of squares (SS) of total: {}\".format(results1.centered_tss))\n",
    "print(\"The multiple R: {}\".format(np.sqrt(results1.rsquared)))\n",
    "print(\"The standard error: {}\".format(np.std(results1.resid)))"
   ]
  },
  {
   "cell_type": "markdown",
   "metadata": {},
   "source": [
    "## calculate a 95% confidence interval for a prediction of peak power demand on a day when the forecast high temperature is 88 F"
   ]
  },
  {
   "cell_type": "code",
   "execution_count": 44,
   "metadata": {},
   "outputs": [],
   "source": [
    "slope = 1.5295\n",
    "intercept = -74.9047\n",
    "y_hat = intercept + slope*88\n",
    "t_value = 1.706\n",
    "n = 28\n",
    "k = 1\n",
    "x_mean = np.mean(df_demand_temp['Daily High Temp (F)'])\n",
    "Se = np.sqrt(np.sum(np.square(df_demand_temp['Daily High Temp (F)']-x_mean))/(n-k-1))\n",
    "Sxx = np.sum(np.square(df_demand_temp['Daily High Temp (F)']-x_mean))"
   ]
  },
  {
   "cell_type": "code",
   "execution_count": 45,
   "metadata": {},
   "outputs": [],
   "source": [
    "interval_with_95_confidence_when_x_equals_88 = [y_hat - t_value*Se*np.sqrt(1+1/n+np.square(88-x_mean)/Sxx),\n",
    "                                                y_hat + t_value*Se*np.sqrt(1+1/n+np.square(88-x_mean)/Sxx)]\n"
   ]
  },
  {
   "cell_type": "code",
   "execution_count": 47,
   "metadata": {},
   "outputs": [
    {
     "name": "stdout",
     "output_type": "stream",
     "text": [
      "The 95% confidence interval for a prediction of peak power demand on a day when the forecast high temperature is 88 F is: [52.974176083970406, 66.40842391602959]\n"
     ]
    }
   ],
   "source": [
    "print(\"The 95% confidence interval for a prediction of peak power demand on a day when the forecast high temperature is 88 F is: {}\".format(interval_with_95_confidence_when_x_equals_88))"
   ]
  },
  {
   "cell_type": "markdown",
   "metadata": {},
   "source": [
    "## Compute the PRESS statistic and the coefficient of prediction (P2) for this regression"
   ]
  },
  {
   "cell_type": "code",
   "execution_count": 56,
   "metadata": {},
   "outputs": [],
   "source": [
    "hii = 1/n + np.square(df_demand_temp['Daily High Temp (F)']-x_mean)/np.sum(np.square(df_demand_temp['Daily High Temp (F)']-x_mean))\n",
    "TSS = results1.centered_tss"
   ]
  },
  {
   "cell_type": "code",
   "execution_count": 57,
   "metadata": {},
   "outputs": [],
   "source": [
    "PRESS = 382.0537"
   ]
  },
  {
   "cell_type": "code",
   "execution_count": 60,
   "metadata": {},
   "outputs": [],
   "source": [
    "P_squared = 1- (PRESS/TSS)*np.square((n-1)/n)"
   ]
  },
  {
   "cell_type": "code",
   "execution_count": 61,
   "metadata": {},
   "outputs": [
    {
     "data": {
      "text/plain": [
       "0.6956814609983147"
      ]
     },
     "execution_count": 61,
     "metadata": {},
     "output_type": "execute_result"
    }
   ],
   "source": [
    "P_squared"
   ]
  },
  {
   "cell_type": "markdown",
   "metadata": {},
   "source": [
    "# The Maint Cost Data"
   ]
  },
  {
   "cell_type": "markdown",
   "metadata": {},
   "source": [
    "import the data"
   ]
  },
  {
   "cell_type": "code",
   "execution_count": 63,
   "metadata": {},
   "outputs": [],
   "source": [
    "df_maint_cost = pd.read_excel('../CEE 5930 Assignment 3 Data -- Fall 2019.xlsx', sheet_name='Maint Cost Data')"
   ]
  },
  {
   "cell_type": "code",
   "execution_count": 64,
   "metadata": {},
   "outputs": [
    {
     "data": {
      "text/html": [
       "<div>\n",
       "<style scoped>\n",
       "    .dataframe tbody tr th:only-of-type {\n",
       "        vertical-align: middle;\n",
       "    }\n",
       "\n",
       "    .dataframe tbody tr th {\n",
       "        vertical-align: top;\n",
       "    }\n",
       "\n",
       "    .dataframe thead th {\n",
       "        text-align: right;\n",
       "    }\n",
       "</style>\n",
       "<table border=\"1\" class=\"dataframe\">\n",
       "  <thead>\n",
       "    <tr style=\"text-align: right;\">\n",
       "      <th></th>\n",
       "      <th>Customers (000's)</th>\n",
       "      <th>Line Maintenance ($000)</th>\n",
       "    </tr>\n",
       "  </thead>\n",
       "  <tbody>\n",
       "    <tr>\n",
       "      <th>0</th>\n",
       "      <td>25.3</td>\n",
       "      <td>484.6</td>\n",
       "    </tr>\n",
       "    <tr>\n",
       "      <th>1</th>\n",
       "      <td>36.4</td>\n",
       "      <td>672.3</td>\n",
       "    </tr>\n",
       "    <tr>\n",
       "      <th>2</th>\n",
       "      <td>37.9</td>\n",
       "      <td>839.4</td>\n",
       "    </tr>\n",
       "    <tr>\n",
       "      <th>3</th>\n",
       "      <td>45.9</td>\n",
       "      <td>694.9</td>\n",
       "    </tr>\n",
       "    <tr>\n",
       "      <th>4</th>\n",
       "      <td>53.4</td>\n",
       "      <td>836.4</td>\n",
       "    </tr>\n",
       "    <tr>\n",
       "      <th>5</th>\n",
       "      <td>66.8</td>\n",
       "      <td>681.9</td>\n",
       "    </tr>\n",
       "    <tr>\n",
       "      <th>6</th>\n",
       "      <td>78.4</td>\n",
       "      <td>1037.0</td>\n",
       "    </tr>\n",
       "    <tr>\n",
       "      <th>7</th>\n",
       "      <td>82.6</td>\n",
       "      <td>1095.6</td>\n",
       "    </tr>\n",
       "    <tr>\n",
       "      <th>8</th>\n",
       "      <td>93.8</td>\n",
       "      <td>1563.1</td>\n",
       "    </tr>\n",
       "    <tr>\n",
       "      <th>9</th>\n",
       "      <td>97.5</td>\n",
       "      <td>1377.9</td>\n",
       "    </tr>\n",
       "    <tr>\n",
       "      <th>10</th>\n",
       "      <td>105.7</td>\n",
       "      <td>1711.7</td>\n",
       "    </tr>\n",
       "    <tr>\n",
       "      <th>11</th>\n",
       "      <td>124.3</td>\n",
       "      <td>2138.6</td>\n",
       "    </tr>\n",
       "  </tbody>\n",
       "</table>\n",
       "</div>"
      ],
      "text/plain": [
       "    Customers (000's)  Line Maintenance ($000)\n",
       "0                25.3                    484.6\n",
       "1                36.4                    672.3\n",
       "2                37.9                    839.4\n",
       "3                45.9                    694.9\n",
       "4                53.4                    836.4\n",
       "5                66.8                    681.9\n",
       "6                78.4                   1037.0\n",
       "7                82.6                   1095.6\n",
       "8                93.8                   1563.1\n",
       "9                97.5                   1377.9\n",
       "10              105.7                   1711.7\n",
       "11              124.3                   2138.6"
      ]
     },
     "execution_count": 64,
     "metadata": {},
     "output_type": "execute_result"
    }
   ],
   "source": [
    "df_maint_cost"
   ]
  },
  {
   "cell_type": "code",
   "execution_count": 66,
   "metadata": {},
   "outputs": [
    {
     "name": "stderr",
     "output_type": "stream",
     "text": [
      "/Users/shufang/anaconda3/lib/python3.7/site-packages/numpy/core/fromnumeric.py:2389: FutureWarning: Method .ptp is deprecated and will be removed in a future version. Use numpy.ptp instead.\n",
      "  return ptp(axis=axis, out=out, **kwargs)\n"
     ]
    }
   ],
   "source": [
    "X = df_maint_cost[\"Customers (000's)\"]\n",
    "Y = df_maint_cost['Line Maintenance ($000)']\n",
    "X = sm.add_constant(X)\n",
    "model2 = sm.OLS(Y,X)\n",
    "results2 = model2.fit()"
   ]
  },
  {
   "cell_type": "code",
   "execution_count": null,
   "metadata": {},
   "outputs": [],
   "source": [
    "residual = "
   ]
  }
 ],
 "metadata": {
  "kernelspec": {
   "display_name": "Python 3",
   "language": "python",
   "name": "python3"
  },
  "language_info": {
   "codemirror_mode": {
    "name": "ipython",
    "version": 3
   },
   "file_extension": ".py",
   "mimetype": "text/x-python",
   "name": "python",
   "nbconvert_exporter": "python",
   "pygments_lexer": "ipython3",
   "version": "3.7.3"
  }
 },
 "nbformat": 4,
 "nbformat_minor": 2
}
